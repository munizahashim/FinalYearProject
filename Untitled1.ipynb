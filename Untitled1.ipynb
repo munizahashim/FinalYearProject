{
 "cells": [
  {
   "cell_type": "code",
   "execution_count": null,
   "id": "075732c9-360a-4727-bb1c-9ca529a82134",
   "metadata": {
    "tags": []
   },
   "outputs": [],
   "source": [
    "import pandas as pd\n",
    "from sklearn.preprocessing import LabelEncoder\n",
    "from sklearn.model_selection import train_test_split\n",
    "from sklearn.linear_model import LinearRegression\n",
    "from sklearn.metrics import r2_score, mean_squared_error\n",
    "from sklearn.ensemble import RandomForestRegressor\n",
    "from sklearn.tree import DecisionTreeRegressor\n",
    "import pickle\n",
    "import statsmodels.api as sm\n"
   ]
  },
  {
   "cell_type": "code",
   "execution_count": 45,
   "id": "dc53dabc-45d8-43a9-9300-194e2a236fb8",
   "metadata": {
    "tags": []
   },
   "outputs": [],
   "source": [
    "# Load the dataset\n",
    "df = pd.read_csv('C:/Users/muniza.hashim/Desktop/senior/FYP/FYP progress/House Prices/house_kg_10K_ads.csv')\n",
    "\n",
    "# Feature Engineering\n",
    "df['date_year'] = pd.to_datetime(df['date']).dt.year\n",
    "df.loc[df['rooms'] == \"свободная планировка\", 'rooms'] = 0\n",
    "df.loc[df['rooms'] == \"6 и более\", 'rooms'] = 6\n",
    "df[\"rooms\"] = df[\"rooms\"].astype(int)\n",
    "df['is_top_floor'] = (df['floor'] == df['floors']) & (df['floor'] != 1)\n",
    "df['is_bottom_floor'] = (df['floor'] == 1) & (df['floor'] != df['floors'])\n",
    "df['max_price_micro_district'] = df.groupby('micro_district')['price'].transform('max')\n",
    "df['max_price_micro_district'].fillna(0, inplace=True)\n",
    "\n",
    "# Encoding categorical data\n",
    "labelencoder = LabelEncoder()\n",
    "df['district_encoded'] = labelencoder.fit_transform(df['district'])\n",
    "df['micro_district_encoded'] = labelencoder.fit_transform(df['micro_district'])\n",
    "df['building_type_encoded'] = labelencoder.fit_transform(df['building_type'])\n",
    "df['source_encoded'] = labelencoder.fit_transform(df['source'])\n",
    "df['condition_encoded'] = labelencoder.fit_transform(df['condition'])"
   ]
  },
  {
   "cell_type": "code",
   "execution_count": 46,
   "id": "df12f48a-0b84-4440-b377-d5d0eab7ea62",
   "metadata": {
    "tags": []
   },
   "outputs": [
    {
     "data": {
      "text/html": [
       "<style>#sk-container-id-1 {color: black;}#sk-container-id-1 pre{padding: 0;}#sk-container-id-1 div.sk-toggleable {background-color: white;}#sk-container-id-1 label.sk-toggleable__label {cursor: pointer;display: block;width: 100%;margin-bottom: 0;padding: 0.3em;box-sizing: border-box;text-align: center;}#sk-container-id-1 label.sk-toggleable__label-arrow:before {content: \"▸\";float: left;margin-right: 0.25em;color: #696969;}#sk-container-id-1 label.sk-toggleable__label-arrow:hover:before {color: black;}#sk-container-id-1 div.sk-estimator:hover label.sk-toggleable__label-arrow:before {color: black;}#sk-container-id-1 div.sk-toggleable__content {max-height: 0;max-width: 0;overflow: hidden;text-align: left;background-color: #f0f8ff;}#sk-container-id-1 div.sk-toggleable__content pre {margin: 0.2em;color: black;border-radius: 0.25em;background-color: #f0f8ff;}#sk-container-id-1 input.sk-toggleable__control:checked~div.sk-toggleable__content {max-height: 200px;max-width: 100%;overflow: auto;}#sk-container-id-1 input.sk-toggleable__control:checked~label.sk-toggleable__label-arrow:before {content: \"▾\";}#sk-container-id-1 div.sk-estimator input.sk-toggleable__control:checked~label.sk-toggleable__label {background-color: #d4ebff;}#sk-container-id-1 div.sk-label input.sk-toggleable__control:checked~label.sk-toggleable__label {background-color: #d4ebff;}#sk-container-id-1 input.sk-hidden--visually {border: 0;clip: rect(1px 1px 1px 1px);clip: rect(1px, 1px, 1px, 1px);height: 1px;margin: -1px;overflow: hidden;padding: 0;position: absolute;width: 1px;}#sk-container-id-1 div.sk-estimator {font-family: monospace;background-color: #f0f8ff;border: 1px dotted black;border-radius: 0.25em;box-sizing: border-box;margin-bottom: 0.5em;}#sk-container-id-1 div.sk-estimator:hover {background-color: #d4ebff;}#sk-container-id-1 div.sk-parallel-item::after {content: \"\";width: 100%;border-bottom: 1px solid gray;flex-grow: 1;}#sk-container-id-1 div.sk-label:hover label.sk-toggleable__label {background-color: #d4ebff;}#sk-container-id-1 div.sk-serial::before {content: \"\";position: absolute;border-left: 1px solid gray;box-sizing: border-box;top: 0;bottom: 0;left: 50%;z-index: 0;}#sk-container-id-1 div.sk-serial {display: flex;flex-direction: column;align-items: center;background-color: white;padding-right: 0.2em;padding-left: 0.2em;position: relative;}#sk-container-id-1 div.sk-item {position: relative;z-index: 1;}#sk-container-id-1 div.sk-parallel {display: flex;align-items: stretch;justify-content: center;background-color: white;position: relative;}#sk-container-id-1 div.sk-item::before, #sk-container-id-1 div.sk-parallel-item::before {content: \"\";position: absolute;border-left: 1px solid gray;box-sizing: border-box;top: 0;bottom: 0;left: 50%;z-index: -1;}#sk-container-id-1 div.sk-parallel-item {display: flex;flex-direction: column;z-index: 1;position: relative;background-color: white;}#sk-container-id-1 div.sk-parallel-item:first-child::after {align-self: flex-end;width: 50%;}#sk-container-id-1 div.sk-parallel-item:last-child::after {align-self: flex-start;width: 50%;}#sk-container-id-1 div.sk-parallel-item:only-child::after {width: 0;}#sk-container-id-1 div.sk-dashed-wrapped {border: 1px dashed gray;margin: 0 0.4em 0.5em 0.4em;box-sizing: border-box;padding-bottom: 0.4em;background-color: white;}#sk-container-id-1 div.sk-label label {font-family: monospace;font-weight: bold;display: inline-block;line-height: 1.2em;}#sk-container-id-1 div.sk-label-container {text-align: center;}#sk-container-id-1 div.sk-container {/* jupyter's `normalize.less` sets `[hidden] { display: none; }` but bootstrap.min.css set `[hidden] { display: none !important; }` so we also need the `!important` here to be able to override the default hidden behavior on the sphinx rendered scikit-learn.org. See: https://github.com/scikit-learn/scikit-learn/issues/21755 */display: inline-block !important;position: relative;}#sk-container-id-1 div.sk-text-repr-fallback {display: none;}</style><div id=\"sk-container-id-1\" class=\"sk-top-container\"><div class=\"sk-text-repr-fallback\"><pre>LinearRegression()</pre><b>In a Jupyter environment, please rerun this cell to show the HTML representation or trust the notebook. <br />On GitHub, the HTML representation is unable to render, please try loading this page with nbviewer.org.</b></div><div class=\"sk-container\" hidden><div class=\"sk-item\"><div class=\"sk-estimator sk-toggleable\"><input class=\"sk-toggleable__control sk-hidden--visually\" id=\"sk-estimator-id-1\" type=\"checkbox\" checked><label for=\"sk-estimator-id-1\" class=\"sk-toggleable__label sk-toggleable__label-arrow\">LinearRegression</label><div class=\"sk-toggleable__content\"><pre>LinearRegression()</pre></div></div></div></div></div>"
      ],
      "text/plain": [
       "LinearRegression()"
      ]
     },
     "execution_count": 46,
     "metadata": {},
     "output_type": "execute_result"
    }
   ],
   "source": [
    "\n",
    "# Define independent and dependent variables\n",
    "independent_variables = [\"square\", \"rooms\", \"floors\", \"floor\", \"date_year\", 'max_price_micro_district',\n",
    "                         'district_encoded', 'micro_district_encoded', 'building_type_encoded', \n",
    "                         'source_encoded', 'condition_encoded']\n",
    "dependent_variable = \"price\"\n",
    "\n",
    "# Standardize the selected columns\n",
    "df[independent_variables] = (df[independent_variables] - df[independent_variables].mean()) / df[independent_variables].std()\n",
    "df[dependent_variable] = (df[dependent_variable] - df[dependent_variable].mean()) / df[dependent_variable].std()\n",
    "\n",
    "# Set up X and y based on dependent and independent variables\n",
    "X = df[independent_variables]\n",
    "X = sm.add_constant(X)\n",
    "y = df[dependent_variable]\n",
    "\n",
    "# Split the dataset into training and testing sets\n",
    "X_train, X_test, y_train, y_test = train_test_split(X, y, test_size=0.2, random_state=5)\n",
    "\n",
    "# Instantiate and fit a Linear Regression model\n",
    "regressor = LinearRegression()\n",
    "regressor.fit(X_train, y_train)\n"
   ]
  },
  {
   "cell_type": "code",
   "execution_count": 47,
   "id": "4f355274-1cb1-44c5-803c-d775847f4c98",
   "metadata": {
    "tags": []
   },
   "outputs": [],
   "source": [
    "# Make predictions on the test set\n",
    "y_pred = regressor.predict(X_test)\n",
    "\n"
   ]
  },
  {
   "cell_type": "code",
   "execution_count": 48,
   "id": "d75e22ce-d3ce-481e-bd52-1b23a9f580a5",
   "metadata": {
    "tags": []
   },
   "outputs": [
    {
     "name": "stdout",
     "output_type": "stream",
     "text": [
      "Linear Regression R-squared: 0.7455314201761754\n",
      "Linear Regression Mean Squared Error (MSE): 0.2760602122400217\n"
     ]
    }
   ],
   "source": [
    "# Evaluate the model\n",
    "r2 = r2_score(y_test, y_pred)\n",
    "mse = mean_squared_error(y_test, y_pred)\n",
    "print(\"Linear Regression R-squared:\", r2)\n",
    "print(\"Linear Regression Mean Squared Error (MSE):\", mse)\n"
   ]
  },
  {
   "cell_type": "code",
   "execution_count": 49,
   "id": "ff96d470-d80c-4e67-9933-7342230044fa",
   "metadata": {
    "tags": []
   },
   "outputs": [
    {
     "name": "stdout",
     "output_type": "stream",
     "text": [
      "Random Forest R-squared: 0.8676713152794032\n",
      "Random Forest Mean Squared Error (MSE): 0.1435567597960504\n"
     ]
    }
   ],
   "source": [
    "\n",
    "# Random Forest Regressor\n",
    "regressor_rf = RandomForestRegressor(n_estimators=100, random_state=42)\n",
    "regressor_rf.fit(X_train, y_train)\n",
    "y_pred_rf = regressor_rf.predict(X_test)\n",
    "r2_rf = r2_score(y_test, y_pred_rf)\n",
    "mse_rf = mean_squared_error(y_test, y_pred_rf)\n",
    "print(\"Random Forest R-squared:\", r2_rf)\n",
    "print(\"Random Forest Mean Squared Error (MSE):\", mse_rf)"
   ]
  },
  {
   "cell_type": "code",
   "execution_count": 50,
   "id": "e9fab8a0-4f72-449d-8643-0084ddd0c909",
   "metadata": {
    "tags": []
   },
   "outputs": [
    {
     "name": "stdout",
     "output_type": "stream",
     "text": [
      "Decision Tree R-squared: 0.7771678811924448\n",
      "Decision Tree Mean Squared Error (MSE): 0.24173940081127482\n"
     ]
    }
   ],
   "source": [
    "\n",
    "# Decision Tree Regressor\n",
    "regressor_dt = DecisionTreeRegressor(random_state=42)\n",
    "regressor_dt.fit(X_train, y_train)\n",
    "y_pred_dt = regressor_dt.predict(X_test)\n",
    "r2_dt = r2_score(y_test, y_pred_dt)\n",
    "mse_dt = mean_squared_error(y_test, y_pred_dt)\n",
    "print(\"Decision Tree R-squared:\", r2_dt)\n",
    "print(\"Decision Tree Mean Squared Error (MSE):\", mse_dt)\n",
    "\n"
   ]
  },
  {
   "cell_type": "code",
   "execution_count": 51,
   "id": "5c642623-2691-4a22-9746-a1839caedbde",
   "metadata": {
    "tags": []
   },
   "outputs": [],
   "source": [
    "\n",
    "# Save the trained Decision Tree Regressor model using pickle\n",
    "with open('DecisionTreeRegressor.pkl', 'wb') as file:\n",
    "    pickle.dump(regressor_dt, file)"
   ]
  },
  {
   "cell_type": "code",
   "execution_count": null,
   "id": "8cf6a692-192c-4c12-8c09-c9e9645d8b3d",
   "metadata": {},
   "outputs": [],
   "source": []
  }
 ],
 "metadata": {
  "kernelspec": {
   "display_name": "Python 3 (ipykernel)",
   "language": "python",
   "name": "python3"
  },
  "language_info": {
   "codemirror_mode": {
    "name": "ipython",
    "version": 3
   },
   "file_extension": ".py",
   "mimetype": "text/x-python",
   "name": "python",
   "nbconvert_exporter": "python",
   "pygments_lexer": "ipython3",
   "version": "3.11.5"
  }
 },
 "nbformat": 4,
 "nbformat_minor": 5
}
