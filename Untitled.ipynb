{
 "cells": [
  {
   "cell_type": "markdown",
   "id": "dba015da-4a7c-47aa-beab-7ee81f9c4646",
   "metadata": {
    "tags": []
   },
   "source": [
    "## IMPORTS"
   ]
  },
  {
   "cell_type": "code",
   "execution_count": null,
   "id": "4407083e-dc44-4a69-aacc-4a96f5511f9c",
   "metadata": {},
   "outputs": [],
   "source": [
    "import pandas as pd\n",
    "import numpy as np\n",
    "import matplotlib.pyplot as plt\n",
    "import seaborn as sns\n",
    "import statsmodels.api as sm\n",
    "from sklearn.model_selection import train_test_split\n",
    "from sklearn.linear_model import LinearRegression\n",
    "from sklearn.metrics import r2_score, mean_squared_error\n",
    "from sklearn.ensemble import RandomForestRegressor\n",
    "from sklearn.tree import DecisionTreeRegressor\n",
    "import pickle"
   ]
  },
  {
   "cell_type": "code",
   "execution_count": 10,
   "id": "f1716ae9-01b0-416e-a859-2de8648fa401",
   "metadata": {
    "tags": []
   },
   "outputs": [],
   "source": [
    "# Load the dataset\n",
    "df = pd.read_csv('C:/Users/muniza.hashim/Desktop/senior/FYP/FYP progress/House Prices/house_kg_10K_ads.csv')\n"
   ]
  },
  {
   "cell_type": "markdown",
   "id": "8a02fa06-8317-4067-aff9-5fee4f86c923",
   "metadata": {
    "tags": []
   },
   "source": [
    "## DATA PREPROCESSIG "
   ]
  },
  {
   "cell_type": "code",
   "execution_count": 25,
   "id": "72b78ad3-09c4-4181-80fd-6ee57edc4eea",
   "metadata": {
    "tags": []
   },
   "outputs": [
    {
     "name": "stdout",
     "output_type": "stream",
     "text": [
      "    price  m2_price  square  rooms            district  micro_district  \\\n",
      "0  110880       720     154      4   Октябрьский район      Магистраль   \n",
      "1   57000       740      77      2   Октябрьский район      Магистраль   \n",
      "2   57750       750      77      2   Октябрьский район      Магистраль   \n",
      "3   57000       740      77      2   Октябрьский район      Магистраль   \n",
      "4   55000      1279      43      1     Ленинский район   Академия Наук   \n",
      "5   97000      1276      76      2  Первомайский район       ЖД вокзал   \n",
      "6  160000      1455     110      3  Первомайский район             NaN   \n",
      "7  158990       880     181      4   Октябрьский район      Магистраль   \n",
      "8   68000      1283      53      1   Октябрьский район      Магистраль   \n",
      "9   57500      1198      48      2  Свердловский район  Аламедин-1 м-н   \n",
      "\n",
      "  building_type  floor  floors  year                 date source  \\\n",
      "0     кирпичный     12      14  2023  2023-02-04 20:05:01   Site   \n",
      "1     кирпичный      5      12  2023  2023-02-04 20:04:49   Site   \n",
      "2    монолитный      5      12  2023  2023-02-04 20:04:37   Site   \n",
      "3     кирпичный      5      12  2023  2023-02-04 20:04:01   Site   \n",
      "4     кирпичный      1      12  2013  2023-02-04 20:02:37   Site   \n",
      "5     кирпичный     10      12     0  2023-02-04 19:58:38   Site   \n",
      "6     кирпичный      3       3  2015  2023-02-04 19:48:55   Site   \n",
      "7    монолитный      9      14  2020  2023-02-04 19:39:26    iOS   \n",
      "8    монолитный      7       9  2019  2023-02-04 19:39:14   Site   \n",
      "9     кирпичный      8      10     0  2023-02-04 19:39:02   Site   \n",
      "\n",
      "               condition  date_year  is_top_floor  is_bottom_floor   year_bin  \n",
      "0  под самоотделку (ПСО)       2023         False            False  2021-2025  \n",
      "1  под самоотделку (ПСО)       2023         False            False  2021-2025  \n",
      "2  под самоотделку (ПСО)       2023         False            False  2021-2025  \n",
      "3  под самоотделку (ПСО)       2023         False            False  2021-2025  \n",
      "4                хорошее       2023         False             True  2011-2014  \n",
      "5             евроремонт       2023         False            False        NaN  \n",
      "6             евроремонт       2023          True            False  2015-2020  \n",
      "7  под самоотделку (ПСО)       2023         False            False  2015-2020  \n",
      "8             евроремонт       2023         False            False  2015-2020  \n",
      "9                    NaN       2023         False            False        NaN  \n"
     ]
    }
   ],
   "source": [
    "# Display the first 10 rows of the dataset\n",
    "print(df.head(10))\n"
   ]
  },
  {
   "cell_type": "code",
   "execution_count": 26,
   "id": "5eb7abd0-86ad-4147-9c1c-f9cd96cb0efb",
   "metadata": {
    "tags": []
   },
   "outputs": [
    {
     "name": "stdout",
     "output_type": "stream",
     "text": [
      "Shape of the dataset: (9990, 17)\n"
     ]
    }
   ],
   "source": [
    "# Get the shape of the dataset\n",
    "print(\"Shape of the dataset:\", df.shape)"
   ]
  },
  {
   "cell_type": "code",
   "execution_count": 27,
   "id": "fc3bafaf-964a-41e5-8039-014d7f483e0e",
   "metadata": {
    "tags": []
   },
   "outputs": [
    {
     "name": "stdout",
     "output_type": "stream",
     "text": [
      "Categorical variables: 7\n"
     ]
    }
   ],
   "source": [
    "\n",
    "# Count categorical variables\n",
    "obj = (df.dtypes == 'object')\n",
    "object_cols = list(obj[obj].index)\n",
    "print(\"Categorical variables:\", len(object_cols))"
   ]
  },
  {
   "cell_type": "code",
   "execution_count": 28,
   "id": "ca50c7e6-75e0-40c7-9778-99053000d593",
   "metadata": {
    "tags": []
   },
   "outputs": [
    {
     "name": "stdout",
     "output_type": "stream",
     "text": [
      "Integer variables: 1\n"
     ]
    }
   ],
   "source": [
    "# Count integer variables\n",
    "int_ = (df.dtypes == 'int')\n",
    "num_cols = list(int_[int_].index)\n",
    "print(\"Integer variables:\", len(num_cols))"
   ]
  },
  {
   "cell_type": "code",
   "execution_count": 29,
   "id": "8e1cd91e-0ca7-4719-a2e2-1d15ffb834b6",
   "metadata": {
    "tags": []
   },
   "outputs": [
    {
     "name": "stdout",
     "output_type": "stream",
     "text": [
      "Float variables: 0\n"
     ]
    }
   ],
   "source": [
    "# Count float variables\n",
    "fl = (df.dtypes == 'float')\n",
    "fl_cols = list(fl[fl].index)\n",
    "print(\"Float variables:\", len(fl_cols))"
   ]
  },
  {
   "cell_type": "code",
   "execution_count": 30,
   "id": "e4b068a3-171c-40a5-a551-e48ceaa031b0",
   "metadata": {
    "tags": []
   },
   "outputs": [
    {
     "name": "stdout",
     "output_type": "stream",
     "text": [
      "Missing values:\n",
      "=============================\n",
      "price                 0\n",
      "m2_price              0\n",
      "square                0\n",
      "rooms                 0\n",
      "district              0\n",
      "micro_district      447\n",
      "building_type         0\n",
      "floor                 0\n",
      "floors                0\n",
      "year                  0\n",
      "date                  0\n",
      "source                0\n",
      "condition          2909\n",
      "date_year             0\n",
      "is_top_floor          0\n",
      "is_bottom_floor       0\n",
      "year_bin           4374\n",
      "dtype: int64\n"
     ]
    }
   ],
   "source": [
    "# Check for missing values\n",
    "print(\"Missing values:\")\n",
    "print(\"=============================\")\n",
    "print(df.isnull().sum())"
   ]
  },
  {
   "cell_type": "code",
   "execution_count": 31,
   "id": "cd237c8f-bdd5-48bc-a410-2c9e91300bd0",
   "metadata": {
    "tags": []
   },
   "outputs": [
    {
     "name": "stdout",
     "output_type": "stream",
     "text": [
      "=============================\n",
      "Number of unique values in each column:\n",
      "price              1176\n",
      "m2_price           1091\n",
      "square              234\n",
      "rooms                 7\n",
      "district              4\n",
      "micro_district      134\n",
      "building_type         3\n",
      "floor                19\n",
      "floors               25\n",
      "year                 69\n",
      "date               9840\n",
      "source                3\n",
      "condition             8\n",
      "date_year             2\n",
      "is_top_floor          2\n",
      "is_bottom_floor       2\n",
      "year_bin              9\n",
      "dtype: int64\n"
     ]
    }
   ],
   "source": [
    "# Check the number of unique values in each column\n",
    "print(\"=============================\")\n",
    "print(\"Number of unique values in each column:\")\n",
    "print(df.nunique())"
   ]
  },
  {
   "cell_type": "code",
   "execution_count": 32,
   "id": "72330044-85a8-4404-8d56-404e9d274573",
   "metadata": {
    "tags": []
   },
   "outputs": [],
   "source": [
    "# Drop rows with missing values in the 'district' column\n",
    "df.dropna(subset=['district'], inplace=True)\n"
   ]
  },
  {
   "cell_type": "code",
   "execution_count": 33,
   "id": "c9a957d9-bf2b-4e6a-86f7-fa2712b513a6",
   "metadata": {
    "tags": []
   },
   "outputs": [
    {
     "name": "stdout",
     "output_type": "stream",
     "text": [
      "Number of duplicate rows: 0\n"
     ]
    }
   ],
   "source": [
    "# Check for duplicate rows and print the count\n",
    "duplicate_rows = df.duplicated()\n",
    "print(\"Number of duplicate rows:\", duplicate_rows.sum())\n"
   ]
  },
  {
   "cell_type": "code",
   "execution_count": 34,
   "id": "f0b6b4fa-d90a-4cf1-8d0f-cbec54af55c7",
   "metadata": {
    "tags": []
   },
   "outputs": [
    {
     "name": "stdout",
     "output_type": "stream",
     "text": [
      "    price  m2_price  square  rooms           district micro_district  \\\n",
      "0  110880       720     154      4  Октябрьский район     Магистраль   \n",
      "\n",
      "  building_type  floor  floors  year                 date source  \\\n",
      "0     кирпичный     12      14  2023  2023-02-04 20:05:01   Site   \n",
      "\n",
      "               condition  date_year  is_top_floor  is_bottom_floor   year_bin  \n",
      "0  под самоотделку (ПСО)       2023         False            False  2021-2025  \n"
     ]
    }
   ],
   "source": [
    "# Extract the year from the 'date' column and create a new column 'date_year'\n",
    "df['date_year'] = pd.to_datetime(df['date']).dt.year\n",
    "print(df.head(1))\n"
   ]
  },
  {
   "cell_type": "code",
   "execution_count": 35,
   "id": "0a037cad-32aa-47ed-b826-85f1c3fbae0a",
   "metadata": {
    "tags": []
   },
   "outputs": [
    {
     "data": {
      "text/plain": [
       "<Axes: >"
      ]
     },
     "execution_count": 35,
     "metadata": {},
     "output_type": "execute_result"
    },
    {
     "data": {
      "image/png": "[encoded data removed]",
      "text/plain": [
       "<Figure size 640x480 with 1 Axes>"
      ]
     },
     "metadata": {},
     "output_type": "display_data"
    }
   ],
   "source": [
    "# Create a histogram for the 'price' column\n",
    "df['price'].hist()"
   ]
  },
  {
   "cell_type": "code",
   "execution_count": 36,
   "id": "74ddc78f-4427-4e88-8d7d-b7d8e056a2f2",
   "metadata": {
    "tags": []
   },
   "outputs": [
    {
     "name": "stdout",
     "output_type": "stream",
     "text": [
      "Unique values in 'rooms' column: [4 2 1 3 5 6 0]\n"
     ]
    }
   ],
   "source": [
    "# Identify unique values in the 'rooms' column\n",
    "unique_rooms = df['rooms'].unique()\n",
    "print(\"Unique values in 'rooms' column:\", unique_rooms)"
   ]
  },
  {
   "cell_type": "code",
   "execution_count": 37,
   "id": "d648da90-2698-4a96-b637-09720b87282d",
   "metadata": {
    "tags": []
   },
   "outputs": [
    {
     "name": "stdout",
     "output_type": "stream",
     "text": [
      "Unique values in 'rooms' column: [4 2 1 3 5 6 0]\n"
     ]
    }
   ],
   "source": [
    "# Identify unique values in the 'rooms' column\n",
    "unique_rooms = df['rooms'].unique()\n",
    "print(\"Unique values in 'rooms' column:\", unique_rooms)"
   ]
  },
  {
   "cell_type": "code",
   "execution_count": 38,
   "id": "1414b838-1e5b-44d0-8a20-aa3966facc82",
   "metadata": {
    "tags": []
   },
   "outputs": [],
   "source": [
    "# Replace '6 и более' with 6 (6 and more)\n",
    "df.loc[df['rooms'] == \"6 и более\", 'rooms'] = 6"
   ]
  },
  {
   "cell_type": "code",
   "execution_count": 39,
   "id": "35c55f8e-d0ca-4974-b23e-906b825d85b3",
   "metadata": {
    "tags": []
   },
   "outputs": [],
   "source": [
    "\n",
    "# Convert the 'rooms' column to integer data type\n",
    "df[\"rooms\"] = df[\"rooms\"].astype(int)"
   ]
  },
  {
   "cell_type": "code",
   "execution_count": 40,
   "id": "4b8f8687-a9cd-42da-9202-86739a924e90",
   "metadata": {
    "tags": []
   },
   "outputs": [
    {
     "data": {
      "text/plain": [
       "<Axes: xlabel='rooms', ylabel='price'>"
      ]
     },
     "execution_count": 40,
     "metadata": {},
     "output_type": "execute_result"
    },
    {
     "data": {
      "image/png": "[encoded data removed]",
      "text/plain": [
       "<Figure size 640x480 with 1 Axes>"
      ]
     },
     "metadata": {},
     "output_type": "display_data"
    }
   ],
   "source": [
    "# Create a scatter plot for 'rooms' vs. 'price'\n",
    "df.plot.scatter('rooms', 'price')"
   ]
  },
  {
   "cell_type": "code",
   "execution_count": 41,
   "id": "f2708cfa-5a52-4caa-a4dc-596565a830e3",
   "metadata": {
    "tags": []
   },
   "outputs": [],
   "source": [
    "# Create a new column 'is_top_floor' based on floor and floors\n",
    "df['is_top_floor'] = (df['floor'] == df['floors']) & (df['floor'] != 1)\n",
    "df['is_bottom_floor'] = (df['floor'] == 1) & (df['floor'] != df['floors'])\n"
   ]
  },
  {
   "cell_type": "code",
   "execution_count": 42,
   "id": "a7963afc-0370-4c20-9f8b-5886eb63c4b1",
   "metadata": {
    "tags": []
   },
   "outputs": [
    {
     "ename": "NameError",
     "evalue": "name 'plt' is not defined",
     "output_type": "error",
     "traceback": [
      "\u001b[1;31m---------------------------------------------------------------------------\u001b[0m",
      "\u001b[1;31mNameError\u001b[0m                                 Traceback (most recent call last)",
      "Cell \u001b[1;32mIn[42], line 4\u001b[0m\n\u001b[0;32m      2\u001b[0m avg_price_by_floor_type \u001b[38;5;241m=\u001b[39m df\u001b[38;5;241m.\u001b[39mgroupby([\u001b[38;5;124m'\u001b[39m\u001b[38;5;124mis_top_floor\u001b[39m\u001b[38;5;124m'\u001b[39m, \u001b[38;5;124m'\u001b[39m\u001b[38;5;124mis_bottom_floor\u001b[39m\u001b[38;5;124m'\u001b[39m])[\u001b[38;5;124m'\u001b[39m\u001b[38;5;124mprice\u001b[39m\u001b[38;5;124m'\u001b[39m]\u001b[38;5;241m.\u001b[39mmean()\n\u001b[0;32m      3\u001b[0m avg_price_by_floor_type\u001b[38;5;241m.\u001b[39mplot(kind\u001b[38;5;241m=\u001b[39m\u001b[38;5;124m'\u001b[39m\u001b[38;5;124mbar\u001b[39m\u001b[38;5;124m'\u001b[39m, color\u001b[38;5;241m=\u001b[39m\u001b[38;5;124m'\u001b[39m\u001b[38;5;124mblue\u001b[39m\u001b[38;5;124m'\u001b[39m)\n\u001b[1;32m----> 4\u001b[0m plt\u001b[38;5;241m.\u001b[39mxlabel(\u001b[38;5;124m'\u001b[39m\u001b[38;5;124mFloor Type\u001b[39m\u001b[38;5;124m'\u001b[39m)\n\u001b[0;32m      5\u001b[0m plt\u001b[38;5;241m.\u001b[39mylabel(\u001b[38;5;124m'\u001b[39m\u001b[38;5;124mAverage Price\u001b[39m\u001b[38;5;124m'\u001b[39m)\n\u001b[0;32m      6\u001b[0m plt\u001b[38;5;241m.\u001b[39mxticks([\u001b[38;5;241m0\u001b[39m, \u001b[38;5;241m1\u001b[39m, \u001b[38;5;241m2\u001b[39m], [\u001b[38;5;124m'\u001b[39m\u001b[38;5;124mNot Top/Bottom\u001b[39m\u001b[38;5;124m'\u001b[39m, \u001b[38;5;124m'\u001b[39m\u001b[38;5;124mTop Floor\u001b[39m\u001b[38;5;124m'\u001b[39m, \u001b[38;5;124m'\u001b[39m\u001b[38;5;124mBottom Floor\u001b[39m\u001b[38;5;124m'\u001b[39m])\n",
      "\u001b[1;31mNameError\u001b[0m: name 'plt' is not defined"
     ]
    },
    {
     "data": {
      "image/png": "[encoded data removed]",
      "text/plain": [
       "<Figure size 640x480 with 1 Axes>"
      ]
     },
     "metadata": {},
     "output_type": "display_data"
    }
   ],
   "source": [
    "# Create a bar plot for average price by floor type\n",
    "avg_price_by_floor_type = df.groupby(['is_top_floor', 'is_bottom_floor'])['price'].mean()\n",
    "avg_price_by_floor_type.plot(kind='bar', color='blue')\n",
    "plt.xlabel('Floor Type')\n",
    "plt.ylabel('Average Price')\n",
    "plt.xticks([0, 1, 2], ['Not Top/Bottom', 'Top Floor', 'Bottom Floor'])\n",
    "plt.title('Average Price Comparison by Floor Type')\n",
    "plt.show()"
   ]
  },
  {
   "cell_type": "code",
   "execution_count": null,
   "id": "c9cbe214-684d-48e6-9e1d-71aabd02def4",
   "metadata": {},
   "outputs": [],
   "source": []
  }
 ],
 "metadata": {
  "kernelspec": {
   "display_name": "Python 3 (ipykernel)",
   "language": "python",
   "name": "python3"
  },
  "language_info": {
   "codemirror_mode": {
    "name": "ipython",
    "version": 3
   },
   "file_extension": ".py",
   "mimetype": "text/x-python",
   "name": "python",
   "nbconvert_exporter": "python",
   "pygments_lexer": "ipython3",
   "version": "3.11.5"
  }
 },
 "nbformat": 4,
 "nbformat_minor": 5
}
